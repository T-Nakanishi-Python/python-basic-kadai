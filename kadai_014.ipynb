{
  "nbformat": 4,
  "nbformat_minor": 0,
  "metadata": {
    "colab": {
      "provenance": [],
      "authorship_tag": "ABX9TyMfwO99sq2RhlC4ZHMiXbfV"
    },
    "kernelspec": {
      "name": "python3",
      "display_name": "Python 3"
    },
    "language_info": {
      "name": "python"
    }
  },
  "cells": [
    {
      "cell_type": "code",
      "execution_count": null,
      "metadata": {
        "id": "C5rVqg4NMo5K"
      },
      "outputs": [],
      "source": [
        "'''\n",
        "price1 = 100\n",
        "price2 = 200\n",
        "\n",
        "def total():\n",
        "    tax = 1.1\n",
        "    return price1 + price2\n",
        "\n",
        "print (total() * tax)\n",
        "\n",
        "上記のコードを修正する\n",
        "'''\n",
        "\n",
        "price1 = 100\n",
        "price2 = 200\n",
        "#ローカル変数になっていた変数taxをグローバルスコープに移動させる\n",
        "tax = 1.1\n",
        "def total():\n",
        "    return price1 + price2\n",
        "\n",
        "print (total() * tax)\n",
        "\n"
      ]
    }
  ]
}
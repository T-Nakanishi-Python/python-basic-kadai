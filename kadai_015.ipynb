{
  "nbformat": 4,
  "nbformat_minor": 0,
  "metadata": {
    "colab": {
      "provenance": [],
      "authorship_tag": "ABX9TyMFx3RtdNF8mbxlapW2fWIo",
      "include_colab_link": true
    },
    "kernelspec": {
      "name": "python3",
      "display_name": "Python 3"
    },
    "language_info": {
      "name": "python"
    }
  },
  "cells": [
    {
      "cell_type": "markdown",
      "metadata": {
        "id": "view-in-github",
        "colab_type": "text"
      },
      "source": [
        "<a href=\"https://colab.research.google.com/github/T-Nakanishi-Python/python-basic-kadai/blob/main/kadai_015.ipynb\" target=\"_parent\"><img src=\"https://colab.research.google.com/assets/colab-badge.svg\" alt=\"Open In Colab\"/></a>"
      ]
    },
    {
      "cell_type": "code",
      "execution_count": 24,
      "metadata": {
        "colab": {
          "base_uri": "https://localhost:8080/"
        },
        "id": "J3PLqPngXD_Q",
        "outputId": "3f7740bf-9480-463a-dd05-08ebee075e3f"
      },
      "outputs": [
        {
          "output_type": "stream",
          "name": "stdout",
          "text": [
            "太郎\n",
            "20\n"
          ]
        }
      ],
      "source": [
        "'''\n",
        "名前(name)と年齢(age)の属性を持つHumanクラスを作成\n",
        "nameとageを標準出力(print)するメソッド(printinfo)を追加\n",
        "\n",
        "Humanクラスのインスタンスは、変数に代入してプログラム内で使用\n",
        "'''\n",
        "\n",
        "class Human:\n",
        "\n",
        "  def __init__(self,name,age):\n",
        "    self.name = name\n",
        "    self.age = age\n",
        "\n",
        "\n",
        "  def printinfo(self):\n",
        "    print(self.name)\n",
        "    print(self.age)\n",
        "\n",
        "\n",
        "taro = Human(\"太郎\",20)\n",
        "\n",
        "taro.printinfo()"
      ]
    }
  ]
}
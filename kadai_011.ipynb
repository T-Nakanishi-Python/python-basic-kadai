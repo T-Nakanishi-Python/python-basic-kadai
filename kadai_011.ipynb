{
  "nbformat": 4,
  "nbformat_minor": 0,
  "metadata": {
    "colab": {
      "provenance": [],
      "authorship_tag": "ABX9TyO1a4UjiFfzOxRqp3XXCcm3"
    },
    "kernelspec": {
      "name": "python3",
      "display_name": "Python 3"
    },
    "language_info": {
      "name": "python"
    }
  },
  "cells": [
    {
      "cell_type": "code",
      "execution_count": null,
      "metadata": {
        "id": "gwCTmSc00mQ3"
      },
      "outputs": [],
      "source": [
        "list = [\"水\",\"金\",\"地\",\"火\",\"木\",\"土\",\"天\",\"海\",\"冥\"]\n",
        "\n",
        "#for文を用いて記述する\n",
        "\n",
        "for i in list:\n",
        "    print(i)\n",
        "\n"
      ]
    },
    {
      "cell_type": "code",
      "source": [
        "#while文を用いて記述する\n",
        "list = [\"水\",\"金\",\"地\",\"火\",\"木\",\"土\",\"天\",\"海\",\"冥\"]\n",
        "index = 0\n",
        "count = 0\n",
        "\n",
        "while count <=8:\n",
        "    print(list[index])\n",
        "    count = count + 1\n",
        "    index = count"
      ],
      "metadata": {
        "id": "Maa606Ns4Xjc"
      },
      "execution_count": null,
      "outputs": []
    }
  ]
}
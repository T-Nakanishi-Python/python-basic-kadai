{
  "nbformat": 4,
  "nbformat_minor": 0,
  "metadata": {
    "colab": {
      "provenance": [],
      "authorship_tag": "ABX9TyM+xwvarw+29ufomI9RMc4m",
      "include_colab_link": true
    },
    "kernelspec": {
      "name": "python3",
      "display_name": "Python 3"
    },
    "language_info": {
      "name": "python"
    }
  },
  "cells": [
    {
      "cell_type": "markdown",
      "metadata": {
        "id": "view-in-github",
        "colab_type": "text"
      },
      "source": [
        "<a href=\"https://colab.research.google.com/github/T-Nakanishi-Python/python-basic-kadai/blob/main/kadai_008.ipynb\" target=\"_parent\"><img src=\"https://colab.research.google.com/assets/colab-badge.svg\" alt=\"Open In Colab\"/></a>"
      ]
    },
    {
      "cell_type": "code",
      "execution_count": 13,
      "metadata": {
        "colab": {
          "base_uri": "https://localhost:8080/"
        },
        "id": "QT1pXIHlya5U",
        "outputId": "63ab8819-9d53-4210-89e9-85f4c02883b3"
      },
      "outputs": [
        {
          "output_type": "stream",
          "name": "stdout",
          "text": [
            "FizzBuzz\n"
          ]
        }
      ],
      "source": [
        "'''\n",
        "変数varが3の倍数の場合はFizz、5の倍数の場合はBuzz、3と5の倍数の場合はFizzBuzz、それ以外の場合は変数varを出力する条件式を記述。\n",
        "ただし、変数varは正の整数とする。\n",
        "'''\n",
        "\n",
        "import random\n",
        "\n",
        "var = 15\n",
        "\n",
        "if var % 3 == 0 and var % 5 != 0:\n",
        "        print(\"Fizz\")\n",
        "elif var % 3 != 0 and var % 5 ==0:\n",
        "        print(\"Buzz\")\n",
        "elif var % 3 == 0 and var % 5 == 0:\n",
        "        print(\"FizzBuzz\")\n",
        "else:\n",
        "        print(var)\n",
        "\n"
      ]
    },
    {
      "cell_type": "markdown",
      "source": [],
      "metadata": {
        "id": "1NXslSvuybwq"
      }
    }
  ]
}
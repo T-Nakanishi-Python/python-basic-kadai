{
  "nbformat": 4,
  "nbformat_minor": 0,
  "metadata": {
    "colab": {
      "provenance": []
    },
    "kernelspec": {
      "name": "python3",
      "display_name": "Python 3"
    },
    "language_info": {
      "name": "python"
    }
  },
  "cells": [
    {
      "cell_type": "code",
      "execution_count": 11,
      "metadata": {
        "colab": {
          "base_uri": "https://localhost:8080/"
        },
        "id": "QT1pXIHlya5U",
        "outputId": "752cfdd6-8484-437a-969e-19b2572e7a5e"
      },
      "outputs": [
        {
          "output_type": "stream",
          "name": "stdout",
          "text": [
            "FizzBuzz\n"
          ]
        }
      ],
      "source": [
        "'''\n",
        "変数varが3の倍数の場合はFizz、5の倍数の場合はBuzz、3と5の倍数の場合はFizzBuzz、それ以外の場合は変数varを出力する条件式を記述。\n",
        "ただし、変数varは正の整数とする。\n",
        "'''\n",
        "\n",
        "import random\n",
        "\n",
        "ver = 15\n",
        "\n",
        "if ver % 3 == 0 and ver % 5 != 0:\n",
        "        print(\"Fizz\")\n",
        "elif ver % 3 != 0 and ver % 5 ==0:\n",
        "        print(\"Buzz\")\n",
        "elif ver % 3 == 0 and ver % 5 == 0:\n",
        "        print(\"FizzBuzz\")\n",
        "else:\n",
        "        print(ver)\n",
        "\n"
      ]
    },
    {
      "cell_type": "markdown",
      "source": [],
      "metadata": {
        "id": "1NXslSvuybwq"
      }
    }
  ]
}
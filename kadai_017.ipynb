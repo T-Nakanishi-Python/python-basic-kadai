{
  "nbformat": 4,
  "nbformat_minor": 0,
  "metadata": {
    "colab": {
      "provenance": [],
      "authorship_tag": "ABX9TyNASbfH0FZ72YG8dJJRhUH1"
    },
    "kernelspec": {
      "name": "python3",
      "display_name": "Python 3"
    },
    "language_info": {
      "name": "python"
    }
  },
  "cells": [
    {
      "cell_type": "code",
      "execution_count": 12,
      "metadata": {
        "colab": {
          "base_uri": "https://localhost:8080/"
        },
        "id": "Z0klQophTuyD",
        "outputId": "482b82da-62a1-42d2-edaa-c7a0b0f7f8ca"
      },
      "outputs": [
        {
          "output_type": "stream",
          "name": "stdout",
          "text": [
            "A子さんは大人です。\n",
            "B男さんは大人ではありません。\n",
            "C太さんは大人です。\n"
          ]
        }
      ],
      "source": [
        "\"\"\"\n",
        "名前(name)と年齢(age)の属性を持つHumanクラスを作成\n",
        "\n",
        "Humanクラスには、以下の条件で標準出力(print)するcheck_adultメソッドを追加\n",
        "\n",
        "    ageが20以上の場合に大人であること\n",
        "    そうでない場合に大人でないこと\n",
        "\n",
        "Humanクラスのインスタンスを複数生成してリストに追加し、リストの要素数分だけcheck_adultメソッドを呼び出す。\n",
        "\"\"\"\n",
        "\n",
        "class Human:\n",
        "    def __init__(self, name, age):\n",
        "        self.name = name\n",
        "        self.age = age\n",
        "\n",
        "    def check_adult(self):\n",
        "        if self.age >= 20:\n",
        "            print(f\"{self.name}さんは大人です。\")\n",
        "        else:\n",
        "            print(f\"{self.name}さんは大人ではありません。\")\n",
        "\n",
        "\n",
        "people_list = []\n",
        "people_list.append(Human(\"A子\", 25))\n",
        "people_list.append(Human(\"B男\", 17))\n",
        "people_list.append(Human(\"C太\", 30))\n",
        "\n",
        "\n",
        "for person in people_list:\n",
        "    person.check_adult()\n",
        "\n"
      ]
    }
  ]
}
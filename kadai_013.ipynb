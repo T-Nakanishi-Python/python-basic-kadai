{
  "nbformat": 4,
  "nbformat_minor": 0,
  "metadata": {
    "colab": {
      "provenance": [],
      "authorship_tag": "ABX9TyOZJ1OChQE/jmLuRPpF9PnB"
    },
    "kernelspec": {
      "name": "python3",
      "display_name": "Python 3"
    },
    "language_info": {
      "name": "python"
    }
  },
  "cells": [
    {
      "cell_type": "code",
      "execution_count": 8,
      "metadata": {
        "colab": {
          "base_uri": "https://localhost:8080/"
        },
        "id": "9VRtwTNxGAV1",
        "outputId": "7645077e-0e5e-4146-df0b-2c7a0b117967"
      },
      "outputs": [
        {
          "output_type": "stream",
          "name": "stdout",
          "text": [
            "購入金額は550です。\n"
          ]
        }
      ],
      "source": [
        "'''\n",
        "商品を購入して、消費税を加えた計算結果を返す関数を記述\n",
        "第1引数に商品の金額、第2引数に消費税（10%）を設定できるようにする\n",
        "'''\n",
        "\n",
        "def purchase(price,tax):\n",
        "    total = price + (price * (tax / 100))\n",
        "    print(f\"購入金額は{int(total)}です。\")\n",
        "\n",
        "purchase(500,10)"
      ]
    }
  ]
}
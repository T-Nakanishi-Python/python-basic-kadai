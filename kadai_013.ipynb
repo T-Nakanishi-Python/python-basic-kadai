{
  "nbformat": 4,
  "nbformat_minor": 0,
  "metadata": {
    "colab": {
      "provenance": [],
      "authorship_tag": "ABX9TyN6iHzxOssRd58VJx6RTyEr"
    },
    "kernelspec": {
      "name": "python3",
      "display_name": "Python 3"
    },
    "language_info": {
      "name": "python"
    }
  },
  "cells": [
    {
      "cell_type": "code",
      "execution_count": 22,
      "metadata": {
        "colab": {
          "base_uri": "https://localhost:8080/"
        },
        "id": "9VRtwTNxGAV1",
        "outputId": "a4fcba3c-4768-4e50-ef12-5bb1fee10e6f"
      },
      "outputs": [
        {
          "output_type": "stream",
          "name": "stdout",
          "text": [
            "購入金額は550円です。\n"
          ]
        }
      ],
      "source": [
        "'''\n",
        "商品を購入して、消費税を加えた計算結果を返す関数を記述\n",
        "第1引数に商品の金額、第2引数に消費税（10%）を設定できるようにする\n",
        "'''\n",
        "\n",
        "def purchase(price,tax):\n",
        "    total = price + (price * (tax / 100))\n",
        "    return total\n",
        "\n",
        "\n",
        "print(f\"購入金額は{int(purchase(500,10))}円です。\")"
      ]
    }
  ]
}